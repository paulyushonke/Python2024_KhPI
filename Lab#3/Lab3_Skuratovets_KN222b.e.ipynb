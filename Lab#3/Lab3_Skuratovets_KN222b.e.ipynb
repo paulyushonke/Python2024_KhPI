{
 "cells": [
  {
   "cell_type": "markdown",
   "id": "b163416b-8b00-4c6b-886f-29fddf0c8695",
   "metadata": {},
   "source": [
    "# Laboratory work 3. Using Pandas for data analysis\n",
    "### by Skuratovets Polina KN-222b.e"
   ]
  },
  {
   "cell_type": "code",
   "execution_count": 27,
   "id": "3751ebfc-248d-4fb4-bf8e-cc4a65d45684",
   "metadata": {},
   "outputs": [
    {
     "data": {
      "text/plain": [
       "'Variant #1'"
      ]
     },
     "execution_count": 27,
     "metadata": {},
     "output_type": "execute_result"
    }
   ],
   "source": [
    "n = 16\n",
    "N = ord(\"P\") % 5 +1\n",
    "f\"Variant #{N}\""
   ]
  },
  {
   "cell_type": "markdown",
   "id": "356069ff-f965-4422-9adf-aa41281351b0",
   "metadata": {},
   "source": [
    "List of exercises: 1, 2, 3, 5, 10, 11, 12, 13, 14, 15, 16, 17, 18, 21, 22, 23, 24, 26 \n"
   ]
  },
  {
   "cell_type": "code",
   "execution_count": 2,
   "id": "b1117d2b-0a0d-4785-a56a-48063cb8ed2c",
   "metadata": {},
   "outputs": [],
   "source": [
    "import numpy as np\n",
    "import pandas as pd\n",
    "file_path = \"NationalNames.csv\"\n",
    "df = pd.read_csv(file_path)\n"
   ]
  },
  {
   "cell_type": "markdown",
   "id": "a84b4b84-ae17-490e-8f93-6396b9508f0e",
   "metadata": {},
   "source": [
    "## Task 1. Output the first 8 rows of the dataset."
   ]
  },
  {
   "cell_type": "code",
   "execution_count": 3,
   "id": "e61a83f7-5d55-44f7-b9f7-d8b35cf773e9",
   "metadata": {},
   "outputs": [
    {
     "data": {
      "text/html": [
       "<div>\n",
       "<style scoped>\n",
       "    .dataframe tbody tr th:only-of-type {\n",
       "        vertical-align: middle;\n",
       "    }\n",
       "\n",
       "    .dataframe tbody tr th {\n",
       "        vertical-align: top;\n",
       "    }\n",
       "\n",
       "    .dataframe thead th {\n",
       "        text-align: right;\n",
       "    }\n",
       "</style>\n",
       "<table border=\"1\" class=\"dataframe\">\n",
       "  <thead>\n",
       "    <tr style=\"text-align: right;\">\n",
       "      <th></th>\n",
       "      <th>Id</th>\n",
       "      <th>Name</th>\n",
       "      <th>Year</th>\n",
       "      <th>Gender</th>\n",
       "      <th>Count</th>\n",
       "    </tr>\n",
       "  </thead>\n",
       "  <tbody>\n",
       "    <tr>\n",
       "      <th>0</th>\n",
       "      <td>1</td>\n",
       "      <td>Mary</td>\n",
       "      <td>1880</td>\n",
       "      <td>F</td>\n",
       "      <td>7065</td>\n",
       "    </tr>\n",
       "    <tr>\n",
       "      <th>1</th>\n",
       "      <td>2</td>\n",
       "      <td>Anna</td>\n",
       "      <td>1880</td>\n",
       "      <td>F</td>\n",
       "      <td>2604</td>\n",
       "    </tr>\n",
       "    <tr>\n",
       "      <th>2</th>\n",
       "      <td>3</td>\n",
       "      <td>Emma</td>\n",
       "      <td>1880</td>\n",
       "      <td>F</td>\n",
       "      <td>2003</td>\n",
       "    </tr>\n",
       "    <tr>\n",
       "      <th>3</th>\n",
       "      <td>4</td>\n",
       "      <td>Elizabeth</td>\n",
       "      <td>1880</td>\n",
       "      <td>F</td>\n",
       "      <td>1939</td>\n",
       "    </tr>\n",
       "    <tr>\n",
       "      <th>4</th>\n",
       "      <td>5</td>\n",
       "      <td>Minnie</td>\n",
       "      <td>1880</td>\n",
       "      <td>F</td>\n",
       "      <td>1746</td>\n",
       "    </tr>\n",
       "    <tr>\n",
       "      <th>5</th>\n",
       "      <td>6</td>\n",
       "      <td>Margaret</td>\n",
       "      <td>1880</td>\n",
       "      <td>F</td>\n",
       "      <td>1578</td>\n",
       "    </tr>\n",
       "    <tr>\n",
       "      <th>6</th>\n",
       "      <td>7</td>\n",
       "      <td>Ida</td>\n",
       "      <td>1880</td>\n",
       "      <td>F</td>\n",
       "      <td>1472</td>\n",
       "    </tr>\n",
       "    <tr>\n",
       "      <th>7</th>\n",
       "      <td>8</td>\n",
       "      <td>Alice</td>\n",
       "      <td>1880</td>\n",
       "      <td>F</td>\n",
       "      <td>1414</td>\n",
       "    </tr>\n",
       "  </tbody>\n",
       "</table>\n",
       "</div>"
      ],
      "text/plain": [
       "   Id       Name  Year Gender  Count\n",
       "0   1       Mary  1880      F   7065\n",
       "1   2       Anna  1880      F   2604\n",
       "2   3       Emma  1880      F   2003\n",
       "3   4  Elizabeth  1880      F   1939\n",
       "4   5     Minnie  1880      F   1746\n",
       "5   6   Margaret  1880      F   1578\n",
       "6   7        Ida  1880      F   1472\n",
       "7   8      Alice  1880      F   1414"
      ]
     },
     "execution_count": 3,
     "metadata": {},
     "output_type": "execute_result"
    }
   ],
   "source": [
    "df.head(8)"
   ]
  },
  {
   "cell_type": "markdown",
   "id": "764a3f19-24bf-4fac-8a49-0df5aa874a7a",
   "metadata": {},
   "source": [
    "## Task 2. Ouput the last 8 rows of the dataset."
   ]
  },
  {
   "cell_type": "code",
   "execution_count": 4,
   "id": "e2c9de01-c765-4fab-8484-8de9d3c987a9",
   "metadata": {},
   "outputs": [
    {
     "data": {
      "text/html": [
       "<div>\n",
       "<style scoped>\n",
       "    .dataframe tbody tr th:only-of-type {\n",
       "        vertical-align: middle;\n",
       "    }\n",
       "\n",
       "    .dataframe tbody tr th {\n",
       "        vertical-align: top;\n",
       "    }\n",
       "\n",
       "    .dataframe thead th {\n",
       "        text-align: right;\n",
       "    }\n",
       "</style>\n",
       "<table border=\"1\" class=\"dataframe\">\n",
       "  <thead>\n",
       "    <tr style=\"text-align: right;\">\n",
       "      <th></th>\n",
       "      <th>Id</th>\n",
       "      <th>Name</th>\n",
       "      <th>Year</th>\n",
       "      <th>Gender</th>\n",
       "      <th>Count</th>\n",
       "    </tr>\n",
       "  </thead>\n",
       "  <tbody>\n",
       "    <tr>\n",
       "      <th>1825425</th>\n",
       "      <td>1825426</td>\n",
       "      <td>Zo</td>\n",
       "      <td>2014</td>\n",
       "      <td>M</td>\n",
       "      <td>5</td>\n",
       "    </tr>\n",
       "    <tr>\n",
       "      <th>1825426</th>\n",
       "      <td>1825427</td>\n",
       "      <td>Zyeir</td>\n",
       "      <td>2014</td>\n",
       "      <td>M</td>\n",
       "      <td>5</td>\n",
       "    </tr>\n",
       "    <tr>\n",
       "      <th>1825427</th>\n",
       "      <td>1825428</td>\n",
       "      <td>Zyel</td>\n",
       "      <td>2014</td>\n",
       "      <td>M</td>\n",
       "      <td>5</td>\n",
       "    </tr>\n",
       "    <tr>\n",
       "      <th>1825428</th>\n",
       "      <td>1825429</td>\n",
       "      <td>Zykeem</td>\n",
       "      <td>2014</td>\n",
       "      <td>M</td>\n",
       "      <td>5</td>\n",
       "    </tr>\n",
       "    <tr>\n",
       "      <th>1825429</th>\n",
       "      <td>1825430</td>\n",
       "      <td>Zymeer</td>\n",
       "      <td>2014</td>\n",
       "      <td>M</td>\n",
       "      <td>5</td>\n",
       "    </tr>\n",
       "    <tr>\n",
       "      <th>1825430</th>\n",
       "      <td>1825431</td>\n",
       "      <td>Zymiere</td>\n",
       "      <td>2014</td>\n",
       "      <td>M</td>\n",
       "      <td>5</td>\n",
       "    </tr>\n",
       "    <tr>\n",
       "      <th>1825431</th>\n",
       "      <td>1825432</td>\n",
       "      <td>Zyran</td>\n",
       "      <td>2014</td>\n",
       "      <td>M</td>\n",
       "      <td>5</td>\n",
       "    </tr>\n",
       "    <tr>\n",
       "      <th>1825432</th>\n",
       "      <td>1825433</td>\n",
       "      <td>Zyrin</td>\n",
       "      <td>2014</td>\n",
       "      <td>M</td>\n",
       "      <td>5</td>\n",
       "    </tr>\n",
       "  </tbody>\n",
       "</table>\n",
       "</div>"
      ],
      "text/plain": [
       "              Id     Name  Year Gender  Count\n",
       "1825425  1825426       Zo  2014      M      5\n",
       "1825426  1825427    Zyeir  2014      M      5\n",
       "1825427  1825428     Zyel  2014      M      5\n",
       "1825428  1825429   Zykeem  2014      M      5\n",
       "1825429  1825430   Zymeer  2014      M      5\n",
       "1825430  1825431  Zymiere  2014      M      5\n",
       "1825431  1825432    Zyran  2014      M      5\n",
       "1825432  1825433    Zyrin  2014      M      5"
      ]
     },
     "execution_count": 4,
     "metadata": {},
     "output_type": "execute_result"
    }
   ],
   "source": [
    "df.tail(8)"
   ]
  },
  {
   "cell_type": "markdown",
   "id": "35f2261f-32b4-4614-aaf8-b1a42af6b34c",
   "metadata": {},
   "source": [
    "## Task 3. Get the names of dataset columns"
   ]
  },
  {
   "cell_type": "code",
   "execution_count": 5,
   "id": "b5c25d0e-e325-4834-8867-ae3b70201b89",
   "metadata": {},
   "outputs": [
    {
     "data": {
      "text/plain": [
       "Index(['Id', 'Name', 'Year', 'Gender', 'Count'], dtype='object')"
      ]
     },
     "execution_count": 5,
     "metadata": {},
     "output_type": "execute_result"
    }
   ],
   "source": [
    "df.columns"
   ]
  },
  {
   "cell_type": "markdown",
   "id": "a67406e4-80d1-4f5d-bebe-54ca18f0f6ea",
   "metadata": {},
   "source": [
    "## Task 5. Find the number of unique names in whole dataset."
   ]
  },
  {
   "cell_type": "code",
   "execution_count": 6,
   "id": "f6fc0c78-6ef5-4fd4-bce1-d1b071c97de9",
   "metadata": {},
   "outputs": [
    {
     "data": {
      "text/plain": [
       "93889"
      ]
     },
     "execution_count": 6,
     "metadata": {},
     "output_type": "execute_result"
    }
   ],
   "source": [
    "df['Name'].nunique()"
   ]
  },
  {
   "cell_type": "markdown",
   "id": "aff2102a-f480-4b56-8392-731550acd160",
   "metadata": {},
   "source": [
    "## Task 10. Count the number of unique names in each year."
   ]
  },
  {
   "cell_type": "code",
   "execution_count": 7,
   "id": "aa238039-88b1-4324-81ac-5055b2c3e8c9",
   "metadata": {},
   "outputs": [
    {
     "data": {
      "text/html": [
       "<div>\n",
       "<style scoped>\n",
       "    .dataframe tbody tr th:only-of-type {\n",
       "        vertical-align: middle;\n",
       "    }\n",
       "\n",
       "    .dataframe tbody tr th {\n",
       "        vertical-align: top;\n",
       "    }\n",
       "\n",
       "    .dataframe thead th {\n",
       "        text-align: right;\n",
       "    }\n",
       "</style>\n",
       "<table border=\"1\" class=\"dataframe\">\n",
       "  <thead>\n",
       "    <tr style=\"text-align: right;\">\n",
       "      <th></th>\n",
       "      <th>Name</th>\n",
       "    </tr>\n",
       "    <tr>\n",
       "      <th>Year</th>\n",
       "      <th></th>\n",
       "    </tr>\n",
       "  </thead>\n",
       "  <tbody>\n",
       "    <tr>\n",
       "      <th>1880</th>\n",
       "      <td>1889</td>\n",
       "    </tr>\n",
       "    <tr>\n",
       "      <th>1881</th>\n",
       "      <td>1830</td>\n",
       "    </tr>\n",
       "    <tr>\n",
       "      <th>1882</th>\n",
       "      <td>2012</td>\n",
       "    </tr>\n",
       "    <tr>\n",
       "      <th>1883</th>\n",
       "      <td>1962</td>\n",
       "    </tr>\n",
       "    <tr>\n",
       "      <th>1884</th>\n",
       "      <td>2158</td>\n",
       "    </tr>\n",
       "    <tr>\n",
       "      <th>...</th>\n",
       "      <td>...</td>\n",
       "    </tr>\n",
       "    <tr>\n",
       "      <th>2010</th>\n",
       "      <td>31603</td>\n",
       "    </tr>\n",
       "    <tr>\n",
       "      <th>2011</th>\n",
       "      <td>31418</td>\n",
       "    </tr>\n",
       "    <tr>\n",
       "      <th>2012</th>\n",
       "      <td>31236</td>\n",
       "    </tr>\n",
       "    <tr>\n",
       "      <th>2013</th>\n",
       "      <td>30774</td>\n",
       "    </tr>\n",
       "    <tr>\n",
       "      <th>2014</th>\n",
       "      <td>30579</td>\n",
       "    </tr>\n",
       "  </tbody>\n",
       "</table>\n",
       "<p>135 rows × 1 columns</p>\n",
       "</div>"
      ],
      "text/plain": [
       "       Name\n",
       "Year       \n",
       "1880   1889\n",
       "1881   1830\n",
       "1882   2012\n",
       "1883   1962\n",
       "1884   2158\n",
       "...     ...\n",
       "2010  31603\n",
       "2011  31418\n",
       "2012  31236\n",
       "2013  30774\n",
       "2014  30579\n",
       "\n",
       "[135 rows x 1 columns]"
      ]
     },
     "execution_count": 7,
     "metadata": {},
     "output_type": "execute_result"
    }
   ],
   "source": [
    "df.groupby('Year').agg({'Name' : 'nunique'})"
   ]
  },
  {
   "cell_type": "markdown",
   "id": "641d6cd4-7f27-49d9-8bd4-bedacbbc1541",
   "metadata": {},
   "source": [
    "## Task 11. Find the year with the most number of unique names."
   ]
  },
  {
   "cell_type": "code",
   "execution_count": 8,
   "id": "75cf12cd-7e91-41ba-9ce8-dabdcf38ee1a",
   "metadata": {},
   "outputs": [
    {
     "data": {
      "text/html": [
       "<div>\n",
       "<style scoped>\n",
       "    .dataframe tbody tr th:only-of-type {\n",
       "        vertical-align: middle;\n",
       "    }\n",
       "\n",
       "    .dataframe tbody tr th {\n",
       "        vertical-align: top;\n",
       "    }\n",
       "\n",
       "    .dataframe thead th {\n",
       "        text-align: right;\n",
       "    }\n",
       "</style>\n",
       "<table border=\"1\" class=\"dataframe\">\n",
       "  <thead>\n",
       "    <tr style=\"text-align: right;\">\n",
       "      <th></th>\n",
       "      <th>Name</th>\n",
       "    </tr>\n",
       "    <tr>\n",
       "      <th>Year</th>\n",
       "      <th></th>\n",
       "    </tr>\n",
       "  </thead>\n",
       "  <tbody>\n",
       "    <tr>\n",
       "      <th>2008</th>\n",
       "      <td>32488</td>\n",
       "    </tr>\n",
       "  </tbody>\n",
       "</table>\n",
       "</div>"
      ],
      "text/plain": [
       "       Name\n",
       "Year       \n",
       "2008  32488"
      ]
     },
     "execution_count": 8,
     "metadata": {},
     "output_type": "execute_result"
    }
   ],
   "source": [
    "df.groupby('Year').agg({'Name' : 'nunique'}).sort_values(by=['Name'], ascending=False).head(1)"
   ]
  },
  {
   "cell_type": "markdown",
   "id": "bcd00419-8ffc-4f3f-8fbd-bce8c3bf2441",
   "metadata": {},
   "source": [
    "## Task 12. Find the most popular name of the year with the most number of unique names (that is in 2008)."
   ]
  },
  {
   "cell_type": "code",
   "execution_count": 9,
   "id": "eb07a618-4e42-4808-b83c-0643193c4af0",
   "metadata": {},
   "outputs": [
    {
     "data": {
      "text/plain": [
       "'Jacob'"
      ]
     },
     "execution_count": 9,
     "metadata": {},
     "output_type": "execute_result"
    }
   ],
   "source": [
    "year_most_unique_names = df.groupby('Year').agg({'Name' : 'nunique'}).nlargest(1, 'Name').index[0]\n",
    "data = df.loc[df['Year'] == year_most_unique_names]\n",
    "data[data['Count'] == data['Count'].max()]['Name'].values[0]"
   ]
  },
  {
   "cell_type": "markdown",
   "id": "bc072eb2-83a4-4608-be54-f3b8644e8707",
   "metadata": {},
   "source": [
    "## Task 13. Find the year when the name 'Jacob' was the most popular female name."
   ]
  },
  {
   "cell_type": "code",
   "execution_count": 10,
   "id": "1566be5b-bd96-4c9c-a134-9d9be82fe922",
   "metadata": {},
   "outputs": [
    {
     "data": {
      "text/html": [
       "<div>\n",
       "<style scoped>\n",
       "    .dataframe tbody tr th:only-of-type {\n",
       "        vertical-align: middle;\n",
       "    }\n",
       "\n",
       "    .dataframe tbody tr th {\n",
       "        vertical-align: top;\n",
       "    }\n",
       "\n",
       "    .dataframe thead th {\n",
       "        text-align: right;\n",
       "    }\n",
       "</style>\n",
       "<table border=\"1\" class=\"dataframe\">\n",
       "  <thead>\n",
       "    <tr style=\"text-align: right;\">\n",
       "      <th></th>\n",
       "      <th>Id</th>\n",
       "      <th>Name</th>\n",
       "      <th>Year</th>\n",
       "      <th>Gender</th>\n",
       "      <th>Count</th>\n",
       "    </tr>\n",
       "  </thead>\n",
       "  <tbody>\n",
       "    <tr>\n",
       "      <th>1455556</th>\n",
       "      <td>1455557</td>\n",
       "      <td>Jacob</td>\n",
       "      <td>2004</td>\n",
       "      <td>F</td>\n",
       "      <td>171</td>\n",
       "    </tr>\n",
       "  </tbody>\n",
       "</table>\n",
       "</div>"
      ],
      "text/plain": [
       "              Id   Name  Year Gender  Count\n",
       "1455556  1455557  Jacob  2004      F    171"
      ]
     },
     "execution_count": 10,
     "metadata": {},
     "output_type": "execute_result"
    }
   ],
   "source": [
    "df.query('Name == \"Jacob\" and Gender == \"F\"').sort_values(by='Count', ascending=False).head(1)"
   ]
  },
  {
   "cell_type": "markdown",
   "id": "91ca4159-2fe2-46ad-b8a7-5262f803379f",
   "metadata": {},
   "source": [
    "## Task 14. Find the year with the most number of gender-neutral names (same male and female names).\n"
   ]
  },
  {
   "cell_type": "code",
   "execution_count": 12,
   "id": "0166cddb-2e65-405c-86d7-224a95a8dbce",
   "metadata": {},
   "outputs": [
    {
     "data": {
      "text/html": [
       "<div>\n",
       "<style scoped>\n",
       "    .dataframe tbody tr th:only-of-type {\n",
       "        vertical-align: middle;\n",
       "    }\n",
       "\n",
       "    .dataframe tbody tr th {\n",
       "        vertical-align: top;\n",
       "    }\n",
       "\n",
       "    .dataframe thead th {\n",
       "        text-align: right;\n",
       "    }\n",
       "</style>\n",
       "<table border=\"1\" class=\"dataframe\">\n",
       "  <thead>\n",
       "    <tr style=\"text-align: right;\">\n",
       "      <th></th>\n",
       "      <th>Gender_neutral_names</th>\n",
       "    </tr>\n",
       "    <tr>\n",
       "      <th>Year</th>\n",
       "      <th></th>\n",
       "    </tr>\n",
       "  </thead>\n",
       "  <tbody>\n",
       "    <tr>\n",
       "      <th>2008</th>\n",
       "      <td>2557</td>\n",
       "    </tr>\n",
       "  </tbody>\n",
       "</table>\n",
       "</div>"
      ],
      "text/plain": [
       "      Gender_neutral_names\n",
       "Year                      \n",
       "2008                  2557"
      ]
     },
     "execution_count": 12,
     "metadata": {},
     "output_type": "execute_result"
    }
   ],
   "source": [
    "gnn = df.groupby(['Year', 'Name']).agg(\n",
    "    Gender_count=pd.NamedAgg(column=\"Gender\", aggfunc=\"nunique\")\n",
    ").query('Gender_count == 2')\n",
    "gnn_per_year = gnn.groupby('Year').agg(Gender_neutral_names=pd.NamedAgg(column=\"Gender_count\", aggfunc=\"count\"))\n",
    "gnn_per_year.nlargest(1, 'Gender_neutral_names')\n"
   ]
  },
  {
   "cell_type": "markdown",
   "id": "fde6cf62-3b53-4878-a9cc-4f6238bbcd26",
   "metadata": {},
   "source": [
    "## Task 15. Find total births per year.\n"
   ]
  },
  {
   "cell_type": "code",
   "execution_count": 13,
   "id": "16e459c9-a99e-49b5-9cc7-12558d48c008",
   "metadata": {},
   "outputs": [
    {
     "data": {
      "text/html": [
       "<div>\n",
       "<style scoped>\n",
       "    .dataframe tbody tr th:only-of-type {\n",
       "        vertical-align: middle;\n",
       "    }\n",
       "\n",
       "    .dataframe tbody tr th {\n",
       "        vertical-align: top;\n",
       "    }\n",
       "\n",
       "    .dataframe thead th {\n",
       "        text-align: right;\n",
       "    }\n",
       "</style>\n",
       "<table border=\"1\" class=\"dataframe\">\n",
       "  <thead>\n",
       "    <tr style=\"text-align: right;\">\n",
       "      <th></th>\n",
       "      <th>Count</th>\n",
       "    </tr>\n",
       "    <tr>\n",
       "      <th>Year</th>\n",
       "      <th></th>\n",
       "    </tr>\n",
       "  </thead>\n",
       "  <tbody>\n",
       "    <tr>\n",
       "      <th>1880</th>\n",
       "      <td>201484</td>\n",
       "    </tr>\n",
       "    <tr>\n",
       "      <th>1881</th>\n",
       "      <td>192699</td>\n",
       "    </tr>\n",
       "    <tr>\n",
       "      <th>1882</th>\n",
       "      <td>221538</td>\n",
       "    </tr>\n",
       "    <tr>\n",
       "      <th>1883</th>\n",
       "      <td>216950</td>\n",
       "    </tr>\n",
       "    <tr>\n",
       "      <th>1884</th>\n",
       "      <td>243467</td>\n",
       "    </tr>\n",
       "  </tbody>\n",
       "</table>\n",
       "</div>"
      ],
      "text/plain": [
       "       Count\n",
       "Year        \n",
       "1880  201484\n",
       "1881  192699\n",
       "1882  221538\n",
       "1883  216950\n",
       "1884  243467"
      ]
     },
     "execution_count": 13,
     "metadata": {},
     "output_type": "execute_result"
    }
   ],
   "source": [
    "df.groupby(['Year']).agg({'Count':'sum'}).head(5)"
   ]
  },
  {
   "cell_type": "markdown",
   "id": "6aec5af1-5069-46f9-9016-5bd43bcb62fe",
   "metadata": {},
   "source": [
    "## Task 16. Find the year when the greatest number of children was born."
   ]
  },
  {
   "cell_type": "code",
   "execution_count": 14,
   "id": "e888d431-da95-4b34-b330-9fd59b74e289",
   "metadata": {},
   "outputs": [
    {
     "data": {
      "text/plain": [
       "1957"
      ]
     },
     "execution_count": 14,
     "metadata": {},
     "output_type": "execute_result"
    }
   ],
   "source": [
    "df.groupby(['Year']).agg({'Count':'sum'}).idxmax().item()"
   ]
  },
  {
   "cell_type": "markdown",
   "id": "97b0f648-b58b-4ff7-9962-b99b73ce1772",
   "metadata": {},
   "source": [
    "# Task 17. Find the number of girls and boys born each year."
   ]
  },
  {
   "cell_type": "code",
   "execution_count": 15,
   "id": "f25e328b-8ef8-4ff4-ac09-4ff79f2b6591",
   "metadata": {},
   "outputs": [
    {
     "data": {
      "text/html": [
       "<div>\n",
       "<style scoped>\n",
       "    .dataframe tbody tr th:only-of-type {\n",
       "        vertical-align: middle;\n",
       "    }\n",
       "\n",
       "    .dataframe tbody tr th {\n",
       "        vertical-align: top;\n",
       "    }\n",
       "\n",
       "    .dataframe thead th {\n",
       "        text-align: right;\n",
       "    }\n",
       "</style>\n",
       "<table border=\"1\" class=\"dataframe\">\n",
       "  <thead>\n",
       "    <tr style=\"text-align: right;\">\n",
       "      <th>Gender</th>\n",
       "      <th>F</th>\n",
       "      <th>M</th>\n",
       "    </tr>\n",
       "    <tr>\n",
       "      <th>Year</th>\n",
       "      <th></th>\n",
       "      <th></th>\n",
       "    </tr>\n",
       "  </thead>\n",
       "  <tbody>\n",
       "    <tr>\n",
       "      <th>1880</th>\n",
       "      <td>90993</td>\n",
       "      <td>110491</td>\n",
       "    </tr>\n",
       "    <tr>\n",
       "      <th>1881</th>\n",
       "      <td>91954</td>\n",
       "      <td>100745</td>\n",
       "    </tr>\n",
       "    <tr>\n",
       "      <th>1882</th>\n",
       "      <td>107850</td>\n",
       "      <td>113688</td>\n",
       "    </tr>\n",
       "    <tr>\n",
       "      <th>1883</th>\n",
       "      <td>112321</td>\n",
       "      <td>104629</td>\n",
       "    </tr>\n",
       "    <tr>\n",
       "      <th>1884</th>\n",
       "      <td>129022</td>\n",
       "      <td>114445</td>\n",
       "    </tr>\n",
       "  </tbody>\n",
       "</table>\n",
       "</div>"
      ],
      "text/plain": [
       "Gender       F       M\n",
       "Year                  \n",
       "1880     90993  110491\n",
       "1881     91954  100745\n",
       "1882    107850  113688\n",
       "1883    112321  104629\n",
       "1884    129022  114445"
      ]
     },
     "execution_count": 15,
     "metadata": {},
     "output_type": "execute_result"
    }
   ],
   "source": [
    "df.groupby(['Year', 'Gender'])['Count'].sum().unstack(fill_value=0).head(5)"
   ]
  },
  {
   "cell_type": "markdown",
   "id": "7be959ce-ff98-4abd-9985-6b7f40f01fa5",
   "metadata": {},
   "source": [
    "## Task 18. Count the number of years when girls were born more than boys.\n"
   ]
  },
  {
   "cell_type": "code",
   "execution_count": 17,
   "id": "eb8718ac-6719-4721-8c78-c1b38864e732",
   "metadata": {},
   "outputs": [
    {
     "data": {
      "text/plain": [
       "54"
      ]
     },
     "execution_count": 17,
     "metadata": {},
     "output_type": "execute_result"
    }
   ],
   "source": [
    "more_girls_years = df.groupby(['Year', 'Gender'])['Count'].sum().unstack(fill_value=0)\n",
    "(more_girls_years['F'] > more_girls_years['M']).sum().item()"
   ]
  },
  {
   "cell_type": "markdown",
   "id": "396e749a-3e64-4f43-807a-05321490179e",
   "metadata": {},
   "source": [
    "## Task 21. Count how many times boys were named as Barbara.\n",
    "\n"
   ]
  },
  {
   "cell_type": "code",
   "execution_count": 18,
   "id": "535556b9-6917-49fe-a659-32268a9e9176",
   "metadata": {},
   "outputs": [
    {
     "data": {
      "text/plain": [
       "4139"
      ]
     },
     "execution_count": 18,
     "metadata": {},
     "output_type": "execute_result"
    }
   ],
   "source": [
    "df[(df['Name'] == 'Barbara') & (df['Gender'] == 'M')]['Count'].sum().item()"
   ]
  },
  {
   "cell_type": "markdown",
   "id": "064912e7-f67a-4cbe-80b9-3a5937fe834d",
   "metadata": {},
   "source": [
    "# Task 22\n",
    "### Calculate how many years the observation was carried out.\n"
   ]
  },
  {
   "cell_type": "code",
   "execution_count": 19,
   "id": "5aa18a44-4351-48b7-a860-5c0e1b8f3f9a",
   "metadata": {},
   "outputs": [
    {
     "data": {
      "text/plain": [
       "'The observation was carried out for 135 years'"
      ]
     },
     "execution_count": 19,
     "metadata": {},
     "output_type": "execute_result"
    }
   ],
   "source": [
    "years = df['Year'].unique().size\n",
    "f\"The observation was carried out for {years} years\""
   ]
  },
  {
   "cell_type": "markdown",
   "id": "d855e2ae-4c1e-4044-85c7-b486c7402b88",
   "metadata": {},
   "source": [
    "## Task 23. Find the most popular gender-neutral names (those that are present every year)."
   ]
  },
  {
   "cell_type": "code",
   "execution_count": 21,
   "id": "84c572d7-1ef6-4e21-b98c-67ddb42fcee8",
   "metadata": {},
   "outputs": [
    {
     "data": {
      "text/html": [
       "<div>\n",
       "<style scoped>\n",
       "    .dataframe tbody tr th:only-of-type {\n",
       "        vertical-align: middle;\n",
       "    }\n",
       "\n",
       "    .dataframe tbody tr th {\n",
       "        vertical-align: top;\n",
       "    }\n",
       "\n",
       "    .dataframe thead th {\n",
       "        text-align: right;\n",
       "    }\n",
       "</style>\n",
       "<table border=\"1\" class=\"dataframe\">\n",
       "  <thead>\n",
       "    <tr style=\"text-align: right;\">\n",
       "      <th></th>\n",
       "      <th>0</th>\n",
       "    </tr>\n",
       "  </thead>\n",
       "  <tbody>\n",
       "    <tr>\n",
       "      <th>0</th>\n",
       "      <td>James</td>\n",
       "    </tr>\n",
       "    <tr>\n",
       "      <th>1</th>\n",
       "      <td>John</td>\n",
       "    </tr>\n",
       "    <tr>\n",
       "      <th>2</th>\n",
       "      <td>Robert</td>\n",
       "    </tr>\n",
       "    <tr>\n",
       "      <th>3</th>\n",
       "      <td>William</td>\n",
       "    </tr>\n",
       "    <tr>\n",
       "      <th>4</th>\n",
       "      <td>Joseph</td>\n",
       "    </tr>\n",
       "    <tr>\n",
       "      <th>5</th>\n",
       "      <td>Jean</td>\n",
       "    </tr>\n",
       "    <tr>\n",
       "      <th>6</th>\n",
       "      <td>Jesse</td>\n",
       "    </tr>\n",
       "    <tr>\n",
       "      <th>7</th>\n",
       "      <td>Leslie</td>\n",
       "    </tr>\n",
       "    <tr>\n",
       "      <th>8</th>\n",
       "      <td>Francis</td>\n",
       "    </tr>\n",
       "    <tr>\n",
       "      <th>9</th>\n",
       "      <td>Lee</td>\n",
       "    </tr>\n",
       "    <tr>\n",
       "      <th>10</th>\n",
       "      <td>Jessie</td>\n",
       "    </tr>\n",
       "    <tr>\n",
       "      <th>11</th>\n",
       "      <td>Marion</td>\n",
       "    </tr>\n",
       "    <tr>\n",
       "      <th>12</th>\n",
       "      <td>Johnnie</td>\n",
       "    </tr>\n",
       "    <tr>\n",
       "      <th>13</th>\n",
       "      <td>Sidney</td>\n",
       "    </tr>\n",
       "    <tr>\n",
       "      <th>14</th>\n",
       "      <td>Ollie</td>\n",
       "    </tr>\n",
       "    <tr>\n",
       "      <th>15</th>\n",
       "      <td>Tommie</td>\n",
       "    </tr>\n",
       "  </tbody>\n",
       "</table>\n",
       "</div>"
      ],
      "text/plain": [
       "          0\n",
       "0     James\n",
       "1      John\n",
       "2    Robert\n",
       "3   William\n",
       "4    Joseph\n",
       "5      Jean\n",
       "6     Jesse\n",
       "7    Leslie\n",
       "8   Francis\n",
       "9       Lee\n",
       "10   Jessie\n",
       "11   Marion\n",
       "12  Johnnie\n",
       "13   Sidney\n",
       "14    Ollie\n",
       "15   Tommie"
      ]
     },
     "execution_count": 21,
     "metadata": {},
     "output_type": "execute_result"
    }
   ],
   "source": [
    "ngn = df.groupby(['Name', 'Year']).agg(Gender_count=('Gender', 'nunique'),Total=('Count', 'sum')\n",
    ").query('Gender_count == 2').reset_index()\n",
    "most_popular_ngn = ngn.groupby('Name').agg(Year_count=('Year', 'nunique'),Total=('Total', 'sum')\n",
    ").query('Year_count == @years').sort_values(by=['Total'], ascending=False).reset_index()\n",
    "most_popular_ngn['Name'].to_frame(name='0')"
   ]
  },
  {
   "cell_type": "markdown",
   "id": "272b1b25-8788-43d5-8b45-6637fb52ba4b",
   "metadata": {},
   "source": [
    "## Task 24. Find the most popular unpopular names (the unpopular name that was given to children the most times).\n"
   ]
  },
  {
   "cell_type": "code",
   "execution_count": 23,
   "id": "27f3f539-472c-45b2-a76a-683e331d1755",
   "metadata": {},
   "outputs": [
    {
     "data": {
      "text/plain": [
       "'Celester is the most popular unpopular name. This name was given to babies 160 times.'"
      ]
     },
     "execution_count": 23,
     "metadata": {},
     "output_type": "execute_result"
    }
   ],
   "source": [
    "most_popular_unpopular_name = df.nsmallest(1, 'Count', keep='all').groupby('Name').agg({'Count' : 'sum'}).nlargest(1, 'Count')\n",
    "name = most_popular_unpopular_name.index[0]\n",
    "times = most_popular_unpopular_name['Count'].values[0]\n",
    "f'{name} is the most popular unpopular name. This name was given to babies {times} times.'"
   ]
  },
  {
   "cell_type": "markdown",
   "id": "e5bd0213-3732-4262-9fa7-94d6c74dbd72",
   "metadata": {},
   "source": [
    "## Task 26. Plot the graphs of the distribution of the number of female names 'John' and male names 'Mary' by year.\n"
   ]
  },
  {
   "cell_type": "code",
   "execution_count": 24,
   "id": "e707d42e-ff34-4e54-b35d-aad094f99af6",
   "metadata": {},
   "outputs": [],
   "source": [
    "mary_per_year = (\n",
    "    df.query('Name == \"Mary\" and Gender == \"M\"')\n",
    "    .pivot_table(index='Year', columns='Name', values='Count', aggfunc='sum', dropna=False, fill_value='0')\n",
    ")\n",
    "john_per_year = (\n",
    "    df.query('Name == \"John\" and Gender == \"F\"')\n",
    "    .pivot_table(index='Year', columns='Name', values='Count', aggfunc='sum', dropna=False, fill_value='0')\n",
    ")\n",
    "joined_data = (\n",
    "    john_per_year\n",
    "    .join(mary_per_year, how='outer')\n",
    "    .fillna(0)\n",
    "    .astype({'John': 'int', 'Mary': 'int'})\n",
    ")\n"
   ]
  },
  {
   "cell_type": "markdown",
   "id": "d8095c9f-64bf-4aee-ba14-4f19b8f6e465",
   "metadata": {},
   "source": [
    "### Distribution of the number of female names 'John' and male names 'Mary' by years"
   ]
  },
  {
   "cell_type": "code",
   "execution_count": 26,
   "id": "3f16edef-9488-4190-a4e8-e5d291af393e",
   "metadata": {},
   "outputs": [
    {
     "data": {
      "image/png": "[encoded data removed]",
      "text/plain": [
       "<Figure size 1000x600 with 1 Axes>"
      ]
     },
     "metadata": {},
     "output_type": "display_data"
    }
   ],
   "source": [
    "import matplotlib.pyplot as plt\n",
    "\n",
    "ax = joined_data.plot(\n",
    "    kind='line',\n",
    "    figsize=(10, 6),\n",
    "    xlabel=\"Year\",\n",
    "   \n",
    "    legend=True,\n",
    "    \n",
    ")\n",
    "\n",
    "plt.legend(loc='upper right', \n",
    "           title='Name',\n",
    "          labels=['John', 'Mary'])\n",
    "\n",
    "plt.savefig('Lab3_Graph_Skuratovets.png')"
   ]
  },
  {
   "cell_type": "code",
   "execution_count": null,
   "id": "14eebfc3-412b-4677-a7ca-2541266aa77e",
   "metadata": {},
   "outputs": [],
   "source": []
  }
 ],
 "metadata": {
  "kernelspec": {
   "display_name": "Python 3 (ipykernel)",
   "language": "python",
   "name": "python3"
  },
  "language_info": {
   "codemirror_mode": {
    "name": "ipython",
    "version": 3
   },
   "file_extension": ".py",
   "mimetype": "text/x-python",
   "name": "python",
   "nbconvert_exporter": "python",
   "pygments_lexer": "ipython3",
   "version": "3.9.20"
  }
 },
 "nbformat": 4,
 "nbformat_minor": 5
}
