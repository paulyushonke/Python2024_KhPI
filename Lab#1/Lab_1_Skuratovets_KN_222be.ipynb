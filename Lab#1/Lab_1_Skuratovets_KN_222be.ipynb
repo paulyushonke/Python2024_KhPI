{
 "cells": [
  {
   "cell_type": "markdown",
   "id": "6fcfce45-a541-4689-a94e-2d5710bb2910",
   "metadata": {},
   "source": [
    "# Laboratory work №1\n",
    "##### by Skuratovets Polina KN-222b.e\n",
    "##### Variant 6\n",
    "\n",
    "## **Task №1**   Jordan: The Hashemite Kingdom🇯🇴\n",
    "\n",
    "\n",
    "\n",
    "### Quick Facts\n",
    "\n",
    "| Category | Information |\n",
    "|----------|-------------|\n",
    "| **Capital** | Amman |\n",
    "| **Area** | 89,342 km² (34,495 sq mi) |\n",
    "| **Population** | ~10.2 million (2021 estimate) |\n",
    "| **Government** | Unitary parliamentary constitutional monarchy |\n",
    "| **Official Language** | Arabic |\n",
    "| **Currency** | Jordanian dinar (JOD) |\n",
    "\n",
    "---\n",
    "\n",
    "### Geography and Climate\n",
    "\n",
    "Jordan is located in Western Asia, bordered by:\n",
    "- Syria to the north\n",
    "- Iraq to the northeast\n",
    "- Saudi Arabia to the east and south\n",
    "- Israel and Palestine to the west\n",
    "\n",
    "![Location](https://cdn.britannica.com/41/1841-050-687334E9/Jordan-map-boundaries-cities-locator.jpg)\n",
    "\n",
    "The country features diverse landscapes:\n",
    "1. Mediterranean forests in the northwest\n",
    "2. Arid desert in the east\n",
    "3. **The Jordan Rift Valley**, including the Dead Sea (the lowest point on Earth)\n",
    "\n",
    "---\n",
    "\n",
    "### Government and Politics\n",
    "\n",
    "Jordan is a constitutional monarchy with a representative government. The current ruler is **_King Abdullah II_**, who ascended to the throne in 1999.\n",
    "\n",
    "---\n",
    "\n",
    "### Culture and People\n",
    "\n",
    "Jordan is known for its rich cultural heritage, blending ancient traditions with modern influences. Some notable aspects include:\n",
    "\n",
    "- **Cuisine**: Famous for dishes like mansaf, falafel, and hummus\n",
    "- **Music**: Traditional Bedouin music and modern Arabic pop\n",
    "- **Art**: Ancient mosaics, contemporary galleries in Amman\n",
    "\n",
    "#### Celebrities from Jordan\n",
    "\n",
    "1. _Queen Rania_ - Queen consort of Jordan, known for her humanitarian work\n",
    "2. _Munta Abu Hamatta_ - Award-winning filmmaker\n",
    "3. _Laith Al-Deen_ - German-Jordanian pop singer\n",
    "\n",
    "---\n",
    "\n",
    "### Cultural and Natural Attractions\n",
    "\n",
    "Jordan boasts numerous world-renowned sites:\n",
    "\n",
    "1. **[Petra](https://whc.unesco.org/en/list/326/)** - Ancient Nabataean city and UNESCO World Heritage site\n",
    "2. **Wadi Rum** - Dramatic desert landscape, often called the \"Valley of the Moon\"\n",
    "3. **Dead Sea** - The lowest point on Earth, known for its mineral-rich waters\n",
    "4. **Jerash** - Well-preserved Roman ruins\n",
    "5. **Aqaba** - Coastal city with vibrant coral reefs\n",
    "\n",
    "![Camel](https://jordan-travel.com/wp-content/uploads/2022/04/Jordan-The-country.jpg)\n",
    "---\n",
    "\n",
    "### Economy\n",
    "\n",
    "Jordan's economy is diverse, with key sectors including:\n",
    "- Tourism\n",
    "- Information technology\n",
    "- Pharmaceuticals\n",
    "- Phosphate mining\n",
    "\n",
    "---\n",
    "\n",
    "\n"
   ]
  },
  {
   "cell_type": "code",
   "execution_count": 6,
   "id": "4048260c-6289-4713-bda7-2cfb1af97d96",
   "metadata": {},
   "outputs": [
    {
     "data": {
      "text/html": [
       "<svg viewBox=\"0 0 60 30\" width=\"600\" height=\"300\">\n",
       "  <rect width=\"60\" height=\"30\" fill=\"#007A3D\"/>\n",
       "  <rect width=\"60\" height=\"20\" y=\"10\" fill=\"#FFFFFF\"/>\n",
       "  <rect width=\"60\" height=\"10\" y=\"20\" fill=\"#000000\"/>\n",
       "  <polygon points=\"0,0 30,15 0,30\" fill=\"#CE1126\"/>\n",
       "  <polygon points=\"7.5,15 6.77,16.85 4.93,16.85 6.36,18.07 5.64,20 7.5,18.78 9.36,20 8.64,18.07 10.07,16.85 8.23,16.85\" fill=\"#FFFFFF\"/>\n",
       "</svg>\n"
      ],
      "text/plain": [
       "<IPython.core.display.HTML object>"
      ]
     },
     "metadata": {},
     "output_type": "display_data"
    }
   ],
   "source": [
    "%%HTML\n",
    "<svg viewBox=\"0 0 60 30\" width=\"600\" height=\"300\">\n",
    "  <rect width=\"60\" height=\"30\" fill=\"#007A3D\"/>\n",
    "  <rect width=\"60\" height=\"20\" y=\"10\" fill=\"#FFFFFF\"/>\n",
    "  <rect width=\"60\" height=\"10\" y=\"20\" fill=\"#000000\"/>\n",
    "  <polygon points=\"0,0 30,15 0,30\" fill=\"#CE1126\"/>\n",
    "  <polygon points=\"7.5,15 6.77,16.85 4.93,16.85 6.36,18.07 5.64,20 7.5,18.78 9.36,20 8.64,18.07 10.07,16.85 8.23,16.85\" fill=\"#FFFFFF\"/>\n",
    "</svg>"
   ]
  },
  {
   "cell_type": "markdown",
   "id": "78285838-d114-4012-a4fc-14a3f34b90d9",
   "metadata": {},
   "source": [
    "## **Task №2**\n",
    "### **Condition for the program** : Enter two integers a and b. Find all primes in the interval [a, b]. "
   ]
  },
  {
   "cell_type": "code",
   "execution_count": 7,
   "id": "63cb45b0-5505-4f21-8c84-52a01ff2a637",
   "metadata": {
    "scrolled": true
   },
   "outputs": [],
   "source": [
    "def is_prime(n):\n",
    "    if n < 2:\n",
    "        return False\n",
    "    for i in range(2, int(n**0.5) + 1):\n",
    "        if n % i == 0:\n",
    "            return False\n",
    "    return True"
   ]
  },
  {
   "cell_type": "code",
   "execution_count": 8,
   "id": "93132aef-d433-4a65-8fa3-405a5c6d86cb",
   "metadata": {},
   "outputs": [],
   "source": [
    "def task_6():\n",
    "    try:\n",
    "        a = int(input(\"Enter the lower bound: \"))\n",
    "        b = int(input(\"Enter the upper bound: \"))\n",
    "        if a > b:\n",
    "            return \"Error: Lower bound should be less than or equal to upper bound.\"\n",
    "        primes = [num for num in range(max(2, a), b + 1) if is_prime(num)]\n",
    "        return primes\n",
    "        \n",
    "    except ValueError:\n",
    "        return \"Error: Please enter valid integers.\"\n"
   ]
  },
  {
   "cell_type": "code",
   "execution_count": 5,
   "id": "ab2e69d6-bc71-47fb-b507-4fa93f2afc1a",
   "metadata": {},
   "outputs": [
    {
     "name": "stdin",
     "output_type": "stream",
     "text": [
      "Enter the lower bound:  g\n"
     ]
    },
    {
     "data": {
      "text/plain": [
       "'Error: Please enter valid integers.'"
      ]
     },
     "execution_count": 5,
     "metadata": {},
     "output_type": "execute_result"
    }
   ],
   "source": [
    "task_6()"
   ]
  },
  {
   "cell_type": "code",
   "execution_count": 17,
   "id": "316b5dc0-15e4-44ff-bed1-ab8f2cd0d51c",
   "metadata": {},
   "outputs": [
    {
     "name": "stdin",
     "output_type": "stream",
     "text": [
      "Enter the lower bound:  1.3\n"
     ]
    },
    {
     "data": {
      "text/plain": [
       "'Error: Please enter valid integers.'"
      ]
     },
     "execution_count": 17,
     "metadata": {},
     "output_type": "execute_result"
    }
   ],
   "source": [
    "task_6()"
   ]
  },
  {
   "cell_type": "code",
   "execution_count": 13,
   "id": "3405957a-8eab-4036-832c-6a7ea32afee2",
   "metadata": {},
   "outputs": [
    {
     "name": "stdin",
     "output_type": "stream",
     "text": [
      "Enter the lower bound:  3\n",
      "Enter the upper bound:  0\n"
     ]
    },
    {
     "data": {
      "text/plain": [
       "'Error: Lower bound should be less than or equal to upper bound.'"
      ]
     },
     "execution_count": 13,
     "metadata": {},
     "output_type": "execute_result"
    }
   ],
   "source": [
    "task_6()"
   ]
  },
  {
   "cell_type": "code",
   "execution_count": 5,
   "id": "90085d45-f069-4ee0-87a9-4d172987953c",
   "metadata": {},
   "outputs": [
    {
     "name": "stdin",
     "output_type": "stream",
     "text": [
      "Enter the lower bound:  0\n",
      "Enter the upper bound:  0\n"
     ]
    },
    {
     "data": {
      "text/plain": [
       "[]"
      ]
     },
     "execution_count": 5,
     "metadata": {},
     "output_type": "execute_result"
    }
   ],
   "source": [
    "task_6()"
   ]
  },
  {
   "cell_type": "code",
   "execution_count": 15,
   "id": "b50805e0-e0eb-448a-be5e-2ae89c1d734e",
   "metadata": {},
   "outputs": [
    {
     "name": "stdin",
     "output_type": "stream",
     "text": [
      "Enter the lower bound:  3\n",
      "Enter the upper bound:  15\n"
     ]
    },
    {
     "data": {
      "text/plain": [
       "[3, 5, 7, 11, 13]"
      ]
     },
     "execution_count": 15,
     "metadata": {},
     "output_type": "execute_result"
    }
   ],
   "source": [
    "task_6()"
   ]
  },
  {
   "cell_type": "code",
   "execution_count": 16,
   "id": "55abcdd8-72b9-49f1-a6ad-4046238c2a46",
   "metadata": {},
   "outputs": [
    {
     "name": "stdin",
     "output_type": "stream",
     "text": [
      "Enter the lower bound:  6\n",
      "Enter the upper bound:  24\n"
     ]
    },
    {
     "data": {
      "text/plain": [
       "[7, 11, 13, 17, 19, 23]"
      ]
     },
     "execution_count": 16,
     "metadata": {},
     "output_type": "execute_result"
    }
   ],
   "source": [
    "task_6()"
   ]
  },
  {
   "cell_type": "code",
   "execution_count": 4,
   "id": "84f328e6-febb-47ad-bfd8-cf602a1a63d6",
   "metadata": {},
   "outputs": [
    {
     "name": "stdin",
     "output_type": "stream",
     "text": [
      "Enter the lower bound:  2\n",
      "Enter the upper bound:  20\n"
     ]
    },
    {
     "data": {
      "text/plain": [
       "[2, 3, 5, 7, 11, 13, 17, 19]"
      ]
     },
     "execution_count": 4,
     "metadata": {},
     "output_type": "execute_result"
    }
   ],
   "source": [
    "task_6()"
   ]
  }
 ],
 "metadata": {
  "kernelspec": {
   "display_name": "Python 3 (ipykernel)",
   "language": "python",
   "name": "python3"
  },
  "language_info": {
   "codemirror_mode": {
    "name": "ipython",
    "version": 3
   },
   "file_extension": ".py",
   "mimetype": "text/x-python",
   "name": "python",
   "nbconvert_exporter": "python",
   "pygments_lexer": "ipython3",
   "version": "3.11.4"
  }
 },
 "nbformat": 4,
 "nbformat_minor": 5
}
